{
 "cells": [
  {
   "cell_type": "markdown",
   "metadata": {},
   "source": [
    "# Big Data"
   ]
  },
  {
   "cell_type": "markdown",
   "metadata": {},
   "source": [
    "Load Data"
   ]
  },
  {
   "cell_type": "code",
   "execution_count": 3,
   "metadata": {},
   "outputs": [],
   "source": [
    "import pandas as pd\n",
    "\n",
    "train_df = pd.read_csv(\"./train_data.csv\", sep=\"\\t\")\n",
    "test_df = pd.read_csv(\"./test_data.csv\", sep=\"\\t\")\n"
   ]
  },
  {
   "cell_type": "markdown",
   "metadata": {},
   "source": [
    "### Question 1\n",
    "\n",
    "Compare and train models for classification as well as to identify important predictors.\n",
    "Note, the data is imbalanced.\n"
   ]
  },
  {
   "cell_type": "code",
   "execution_count": 4,
   "metadata": {},
   "outputs": [
    {
     "data": {
      "text/plain": [
       "AdaBoostClassifier()"
      ]
     },
     "execution_count": 4,
     "metadata": {},
     "output_type": "execute_result"
    }
   ],
   "source": [
    "from sklearn.ensemble import RandomForestClassifier, AdaBoostClassifier, GradientBoostingClassifier\n",
    "from sklearn.neighbors import KNeighborsClassifier\n",
    "from sklearn.metrics import accuracy_score\n",
    "\n",
    "rf_classifier = RandomForestClassifier()\n",
    "knn_classifier = KNeighborsClassifier()\n",
    "ada_boost_classifier = AdaBoostClassifier()\n",
    "\n",
    "target = \"Class\"\n",
    "\n",
    "rf_classifier.fit(train_df.drop([target], axis=1), train_df[target])\n",
    "knn_classifier.fit(train_df.drop([target], axis=1), train_df[target])\n",
    "ada_boost_classifier.fit(train_df.drop([target], axis=1), train_df[target])\n",
    "\n"
   ]
  },
  {
   "cell_type": "code",
   "execution_count": 5,
   "metadata": {},
   "outputs": [
    {
     "name": "stdout",
     "output_type": "stream",
     "text": [
      "RF Accuracy: 0.6043333333333333\n",
      "KNN Accuracy: 0.5973333333333334\n",
      "Ada Boost Accuracy: 0.6953333333333334\n"
     ]
    }
   ],
   "source": [
    "# Predict\n",
    "\n",
    "rf_pred = rf_classifier.predict(test_df.drop([target], axis=1))\n",
    "knn_pred = knn_classifier.predict(test_df.drop([target], axis=1))\n",
    "ada_boost_pred = ada_boost_classifier.predict(test_df.drop([target], axis=1))\n",
    "\n",
    "print(\"RF Accuracy:\", accuracy_score(test_df[target], rf_pred))\n",
    "print(\"KNN Accuracy:\", accuracy_score(test_df[target], knn_pred))\n",
    "print(\"Ada Boost Accuracy:\", accuracy_score(test_df[target], ada_boost_pred))"
   ]
  },
  {
   "cell_type": "code",
   "execution_count": 10,
   "metadata": {},
   "outputs": [
    {
     "data": {
      "text/plain": [
       "([0,\n",
       "  1,\n",
       "  2,\n",
       "  3,\n",
       "  4,\n",
       "  5,\n",
       "  6,\n",
       "  7,\n",
       "  8,\n",
       "  9,\n",
       "  10,\n",
       "  11,\n",
       "  12,\n",
       "  13,\n",
       "  14,\n",
       "  15,\n",
       "  16,\n",
       "  17,\n",
       "  18,\n",
       "  19,\n",
       "  20,\n",
       "  21,\n",
       "  22,\n",
       "  23,\n",
       "  24,\n",
       "  25,\n",
       "  26,\n",
       "  27,\n",
       "  28,\n",
       "  29,\n",
       "  30,\n",
       "  31,\n",
       "  32,\n",
       "  33,\n",
       "  34],\n",
       " [Text(0, 0, ''),\n",
       "  Text(0, 0, ''),\n",
       "  Text(0, 0, ''),\n",
       "  Text(0, 0, ''),\n",
       "  Text(0, 0, ''),\n",
       "  Text(0, 0, ''),\n",
       "  Text(0, 0, ''),\n",
       "  Text(0, 0, ''),\n",
       "  Text(0, 0, ''),\n",
       "  Text(0, 0, ''),\n",
       "  Text(0, 0, ''),\n",
       "  Text(0, 0, ''),\n",
       "  Text(0, 0, ''),\n",
       "  Text(0, 0, ''),\n",
       "  Text(0, 0, ''),\n",
       "  Text(0, 0, ''),\n",
       "  Text(0, 0, ''),\n",
       "  Text(0, 0, ''),\n",
       "  Text(0, 0, ''),\n",
       "  Text(0, 0, ''),\n",
       "  Text(0, 0, ''),\n",
       "  Text(0, 0, ''),\n",
       "  Text(0, 0, ''),\n",
       "  Text(0, 0, ''),\n",
       "  Text(0, 0, ''),\n",
       "  Text(0, 0, ''),\n",
       "  Text(0, 0, ''),\n",
       "  Text(0, 0, ''),\n",
       "  Text(0, 0, ''),\n",
       "  Text(0, 0, ''),\n",
       "  Text(0, 0, ''),\n",
       "  Text(0, 0, ''),\n",
       "  Text(0, 0, ''),\n",
       "  Text(0, 0, ''),\n",
       "  Text(0, 0, '')])"
      ]
     },
     "execution_count": 10,
     "metadata": {},
     "output_type": "execute_result"
    },
    {
     "data": {
      "image/png": "[encoded data removed]",
      "text/plain": [
       "<Figure size 432x288 with 1 Axes>"
      ]
     },
     "metadata": {
      "needs_background": "light"
     },
     "output_type": "display_data"
    }
   ],
   "source": [
    "from matplotlib import pyplot as plt\n",
    "plt.title(\"Feature importances\")\n",
    "plt.bar(train_df.drop(target, axis=1).columns, rf_classifier.feature_importances_, color=\"r\", align=\"center\")\n",
    "\n",
    "plt.xticks(rotation=90)\n"
   ]
  },
  {
   "cell_type": "code",
   "execution_count": 18,
   "metadata": {},
   "outputs": [
    {
     "name": "stdout",
     "output_type": "stream",
     "text": [
      "RF Accuracy: 0.791\n",
      "KNN Accuracy: 0.709\n",
      "Ada Boost Accuracy: 0.6953333333333334\n"
     ]
    }
   ],
   "source": [
    "# balance the data\n",
    "from imblearn.over_sampling import SMOTE\n",
    "from imblearn.under_sampling import RandomUnderSampler\n",
    "\n",
    "rus = RandomUnderSampler(random_state=42)\n",
    "sm = SMOTE(random_state=42)\n",
    "\n",
    "train_df_rus, target_df_rus = rus.fit_resample(train_df.drop([target], axis=1), train_df[target])\n",
    "train_df_sm, target_df_sm = sm.fit_resample(train_df.drop([target], axis=1), train_df[target])\n",
    "\n",
    "rf_classifier.fit(train_df_rus, target_df_rus)\n",
    "knn_classifier.fit(train_df_rus, target_df_rus)\n",
    "ada_boost_classifier.fit(train_df_rus, target_df_rus)\n",
    "\n",
    "rf_pred = rf_classifier.predict(test_df.drop([target], axis=1))\n",
    "knn_pred = knn_classifier.predict(test_df.drop([target], axis=1))\n",
    "ada_pred = ada_boost_classifier.predict(test_df.drop([target], axis=1))\n",
    "\n",
    "print(\"RF Accuracy:\", accuracy_score(test_df[target], rf_pred))\n",
    "print(\"KNN Accuracy:\", accuracy_score(test_df[target], knn_pred))\n",
    "print(\"Ada Boost Accuracy:\", accuracy_score(test_df[target], ada_boost_pred))\n",
    "\n"
   ]
  }
 ],
 "metadata": {
  "interpreter": {
   "hash": "1450a4ed12458aaa6491c9ab91913c50dcf0e5fd5915695434ae851f03a3a8d5"
  },
  "kernelspec": {
   "display_name": "Python 3.10.2 ('.env': venv)",
   "language": "python",
   "name": "python3"
  },
  "language_info": {
   "codemirror_mode": {
    "name": "ipython",
    "version": 3
   },
   "file_extension": ".py",
   "mimetype": "text/x-python",
   "name": "python",
   "nbconvert_exporter": "python",
   "pygments_lexer": "ipython3",
   "version": "3.10.2"
  },
  "orig_nbformat": 4
 },
 "nbformat": 4,
 "nbformat_minor": 2
}
